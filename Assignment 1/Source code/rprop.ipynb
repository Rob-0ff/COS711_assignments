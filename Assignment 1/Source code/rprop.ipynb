{
 "cells": [
  {
   "cell_type": "markdown",
   "metadata": {},
   "source": [
    "# Neural Network"
   ]
  },
  {
   "cell_type": "code",
   "execution_count": 165,
   "metadata": {},
   "outputs": [],
   "source": [
    "import torch\n",
    "import torch.nn as nn\n",
    "import torch.nn.functional as F\n",
    "import numpy as np\n",
    "from sklearn.model_selection import train_test_split\n",
    "import matplotlib.pyplot as plt\n",
    "import time"
   ]
  },
  {
   "cell_type": "code",
   "execution_count": 166,
   "metadata": {},
   "outputs": [],
   "source": [
    "%run preprocessing.ipynb\n"
   ]
  },
  {
   "cell_type": "code",
   "execution_count": 167,
   "metadata": {},
   "outputs": [
    {
     "name": "stderr",
     "output_type": "stream",
     "text": [
      "C:\\Users\\robof\\AppData\\Local\\Temp\\ipykernel_21492\\2672841116.py:10: FutureWarning: A value is trying to be set on a copy of a DataFrame or Series through chained assignment using an inplace method.\n",
      "The behavior will change in pandas 3.0. This inplace method will never work because the intermediate object on which we are setting values always behaves as a copy.\n",
      "\n",
      "For example, when doing 'df[col].method(value, inplace=True)', try using 'df.method({col: value}, inplace=True)' or df[col] = df[col].method(value) instead, to perform the operation inplace on the original object.\n",
      "\n",
      "\n",
      "  data[column].fillna(data[column_to_average].mean(axis=1), inplace=True)\n",
      "C:\\Users\\robof\\AppData\\Local\\Temp\\ipykernel_21492\\2672841116.py:10: FutureWarning: A value is trying to be set on a copy of a DataFrame or Series through chained assignment using an inplace method.\n",
      "The behavior will change in pandas 3.0. This inplace method will never work because the intermediate object on which we are setting values always behaves as a copy.\n",
      "\n",
      "For example, when doing 'df[col].method(value, inplace=True)', try using 'df.method({col: value}, inplace=True)' or df[col] = df[col].method(value) instead, to perform the operation inplace on the original object.\n",
      "\n",
      "\n",
      "  data[column].fillna(data[column_to_average].mean(axis=1), inplace=True)\n",
      "C:\\Users\\robof\\AppData\\Local\\Temp\\ipykernel_21492\\2672841116.py:10: FutureWarning: A value is trying to be set on a copy of a DataFrame or Series through chained assignment using an inplace method.\n",
      "The behavior will change in pandas 3.0. This inplace method will never work because the intermediate object on which we are setting values always behaves as a copy.\n",
      "\n",
      "For example, when doing 'df[col].method(value, inplace=True)', try using 'df.method({col: value}, inplace=True)' or df[col] = df[col].method(value) instead, to perform the operation inplace on the original object.\n",
      "\n",
      "\n",
      "  data[column].fillna(data[column_to_average].mean(axis=1), inplace=True)\n",
      "C:\\Users\\robof\\AppData\\Local\\Temp\\ipykernel_21492\\2672841116.py:10: FutureWarning: A value is trying to be set on a copy of a DataFrame or Series through chained assignment using an inplace method.\n",
      "The behavior will change in pandas 3.0. This inplace method will never work because the intermediate object on which we are setting values always behaves as a copy.\n",
      "\n",
      "For example, when doing 'df[col].method(value, inplace=True)', try using 'df.method({col: value}, inplace=True)' or df[col] = df[col].method(value) instead, to perform the operation inplace on the original object.\n",
      "\n",
      "\n",
      "  data[column].fillna(data[column_to_average].mean(axis=1), inplace=True)\n",
      "C:\\Users\\robof\\AppData\\Local\\Temp\\ipykernel_21492\\2672841116.py:10: FutureWarning: A value is trying to be set on a copy of a DataFrame or Series through chained assignment using an inplace method.\n",
      "The behavior will change in pandas 3.0. This inplace method will never work because the intermediate object on which we are setting values always behaves as a copy.\n",
      "\n",
      "For example, when doing 'df[col].method(value, inplace=True)', try using 'df.method({col: value}, inplace=True)' or df[col] = df[col].method(value) instead, to perform the operation inplace on the original object.\n",
      "\n",
      "\n",
      "  data[column].fillna(data[column_to_average].mean(axis=1), inplace=True)\n",
      "C:\\Users\\robof\\AppData\\Local\\Temp\\ipykernel_21492\\2672841116.py:10: FutureWarning: A value is trying to be set on a copy of a DataFrame or Series through chained assignment using an inplace method.\n",
      "The behavior will change in pandas 3.0. This inplace method will never work because the intermediate object on which we are setting values always behaves as a copy.\n",
      "\n",
      "For example, when doing 'df[col].method(value, inplace=True)', try using 'df.method({col: value}, inplace=True)' or df[col] = df[col].method(value) instead, to perform the operation inplace on the original object.\n",
      "\n",
      "\n",
      "  data[column].fillna(data[column_to_average].mean(axis=1), inplace=True)\n"
     ]
    },
    {
     "data": {
      "text/plain": [
       "Type\n",
       "2    943\n",
       "1    933\n",
       "0    927\n",
       "Name: count, dtype: int64"
      ]
     },
     "execution_count": 167,
     "metadata": {},
     "output_type": "execute_result"
    }
   ],
   "source": [
    "# Perform preprocessing\n",
    "\n",
    "data = perform_preprocessing() # type: ignore\n",
    "data['Type'].value_counts()"
   ]
  },
  {
   "cell_type": "code",
   "execution_count": 168,
   "metadata": {},
   "outputs": [],
   "source": [
    "class NNModel(nn.Module):\n",
    "    def __init__(self, seed, in_features=12, num_hidden_layers=4, out_categories=3):\n",
    "        super(NNModel, self).__init__()\n",
    "        self.num_hidden = num_hidden_layers\n",
    "        hidden_layers = []\n",
    "        for i in range(0,num_hidden_layers):\n",
    "            hidden_layers.append(12)\n",
    "\n",
    "        self.input = nn.Linear(in_features, hidden_layers[0])\n",
    "        self.h1 = nn.Linear(hidden_layers[0], hidden_layers[1])\n",
    "        self.h2 = nn.Linear(hidden_layers[1], hidden_layers[2])\n",
    "        self.h3 = nn.Linear(hidden_layers[2], hidden_layers[3])\n",
    "        self.output = nn.Linear(hidden_layers[2], out_categories)\n",
    "\n",
    "        np.random.seed(seed)\n",
    "        torch.manual_seed(seed)\n",
    "    def forward(self, x):\n",
    "        x = F.relu(self.input(x))\n",
    "        x = F.relu(self.h1(x))\n",
    "        x = F.relu(self.h2(x))\n",
    "        x = F.relu(self.h3(x))\n",
    "        x = self.output(x)\n",
    "        return x"
   ]
  },
  {
   "cell_type": "markdown",
   "metadata": {},
   "source": [
    "# Training the model"
   ]
  },
  {
   "cell_type": "code",
   "execution_count": 169,
   "metadata": {},
   "outputs": [],
   "source": [
    "momentum = 0.9\n",
    "learning_rate = 0.05\n",
    "epochs = 5000\n",
    "seed = round(time.time())\n",
    "num_hidden_layers = 6\n",
    "test_proportion = 0.1"
   ]
  },
  {
   "cell_type": "markdown",
   "metadata": {},
   "source": [
    "## Split the data"
   ]
  },
  {
   "cell_type": "code",
   "execution_count": 170,
   "metadata": {},
   "outputs": [],
   "source": [
    "X = data.drop(labels=['Type'], axis=1)\n",
    "y = data['Type']\n",
    "\n",
    "\n",
    "X = X.values\n",
    "y = y.values\n",
    "\n",
    "X_train, X_test, y_train, y_test = train_test_split(X, y, test_size = test_proportion, random_state = seed)\n",
    "\n",
    "X_train = torch.FloatTensor(X_train)\n",
    "X_test = torch.FloatTensor(X_test)\n",
    "\n",
    "y_train = torch.LongTensor(y_train)\n",
    "y_test = torch.LongTensor(y_test)"
   ]
  },
  {
   "cell_type": "markdown",
   "metadata": {},
   "source": [
    "## Train model"
   ]
  },
  {
   "cell_type": "markdown",
   "metadata": {},
   "source": [
    "### Rprop"
   ]
  },
  {
   "cell_type": "code",
   "execution_count": 171,
   "metadata": {},
   "outputs": [],
   "source": [
    "losses = []\n",
    "\n",
    "def train_model(optimiser, criterion, epochs, classifier):\n",
    "    losses = []\n",
    "    for i in range(epochs):\n",
    "        y_pred = classifier.forward(X_train)\n",
    "\n",
    "        loss = criterion(y_pred, y_train)\n",
    "        losses.append(loss.detach().numpy())\n",
    "\n",
    "        if i % 100 == 0:\n",
    "            print(f'Epoch: {i} and loss: {loss}')\n",
    "\n",
    "        optimiser.zero_grad()\n",
    "        loss.backward()\n",
    "        optimiser.step()\n",
    "\n",
    "    plt.plot(range(epochs), losses)\n",
    "    plt.ylabel(\"loss/error\")\n",
    "    plt.xlabel(\"Epoch\")\n",
    "\n",
    "    # See the model's prediction accuracy using testing set\n",
    "    with torch.no_grad():\n",
    "        y_val = classifier.forward(X_train)\n",
    "        loss = criterion(y_val, y_train)\n",
    "        print(f'Loss: {loss}')\n",
    "\n",
    "        correct = (torch.argmax(y_val, dim=1) == y_train).float()\n",
    "        accuracy = correct.sum() / len(correct)\n",
    "        print(f'Accuracy: {accuracy}')\n",
    "\n",
    "\n",
    "    # Test the model with testing set after training model\n",
    "    with torch.no_grad():\n",
    "        y_val = classifier.forward(X_test)\n",
    "        loss = criterion(y_val, y_test)\n",
    "        print(f'Loss: {loss}')\n",
    "\n",
    "        correct = (torch.argmax(y_val, dim=1) == y_test).float()\n",
    "        accuracy = correct.sum() / len(correct)\n",
    "        print(f'Accuracy: {accuracy}')"
   ]
  },
  {
   "cell_type": "markdown",
   "metadata": {},
   "source": [
    "### Rprop"
   ]
  },
  {
   "cell_type": "code",
   "execution_count": 172,
   "metadata": {},
   "outputs": [
    {
     "name": "stdout",
     "output_type": "stream",
     "text": [
      "Epoch: 0 and loss: 1.1171413660049438\n",
      "Epoch: 100 and loss: 0.6462879776954651\n",
      "Epoch: 200 and loss: 0.6057225465774536\n",
      "Epoch: 300 and loss: 0.5926102995872498\n",
      "Epoch: 400 and loss: 0.5842287540435791\n",
      "Epoch: 500 and loss: 0.5715596079826355\n",
      "Epoch: 600 and loss: 0.5603371262550354\n",
      "Epoch: 700 and loss: 0.552574634552002\n",
      "Epoch: 800 and loss: 0.5486344695091248\n",
      "Epoch: 900 and loss: 0.546425998210907\n",
      "Epoch: 1000 and loss: 0.5453115701675415\n",
      "Epoch: 1100 and loss: 0.5446366667747498\n",
      "Epoch: 1200 and loss: 0.5440871119499207\n",
      "Epoch: 1300 and loss: 0.5437766313552856\n",
      "Epoch: 1400 and loss: 0.5434438586235046\n",
      "Epoch: 1500 and loss: 0.5429711937904358\n",
      "Epoch: 1600 and loss: 0.5427943468093872\n",
      "Epoch: 1700 and loss: 0.5425180792808533\n",
      "Epoch: 1800 and loss: 0.5421357154846191\n",
      "Epoch: 1900 and loss: 0.5417177081108093\n",
      "Epoch: 2000 and loss: 0.5412647128105164\n",
      "Epoch: 2100 and loss: 0.540966808795929\n",
      "Epoch: 2200 and loss: 0.5405922532081604\n",
      "Epoch: 2300 and loss: 0.5400605797767639\n",
      "Epoch: 2400 and loss: 0.5391382575035095\n",
      "Epoch: 2500 and loss: 0.5388308763504028\n",
      "Epoch: 2600 and loss: 0.5386981964111328\n",
      "Epoch: 2700 and loss: 0.5386288166046143\n",
      "Epoch: 2800 and loss: 0.5385577082633972\n",
      "Epoch: 2900 and loss: 0.5384898781776428\n",
      "Epoch: 3000 and loss: 0.5384365916252136\n",
      "Epoch: 3100 and loss: 0.5383809804916382\n",
      "Epoch: 3200 and loss: 0.5383204817771912\n",
      "Epoch: 3300 and loss: 0.5382770299911499\n",
      "Epoch: 3400 and loss: 0.5381800532341003\n",
      "Epoch: 3500 and loss: 0.5381329655647278\n",
      "Epoch: 3600 and loss: 0.5380983352661133\n",
      "Epoch: 3700 and loss: 0.5377896428108215\n",
      "Epoch: 3800 and loss: 0.5367118716239929\n",
      "Epoch: 3900 and loss: 0.5358946323394775\n",
      "Epoch: 4000 and loss: 0.5342147946357727\n",
      "Epoch: 4100 and loss: 0.5329397320747375\n",
      "Epoch: 4200 and loss: 0.5321692824363708\n",
      "Epoch: 4300 and loss: 0.5315424203872681\n",
      "Epoch: 4400 and loss: 0.5310462117195129\n",
      "Epoch: 4500 and loss: 0.5291528105735779\n",
      "Epoch: 4600 and loss: 0.5274364948272705\n",
      "Epoch: 4700 and loss: 0.5254654288291931\n",
      "Epoch: 4800 and loss: 0.5227276682853699\n",
      "Epoch: 4900 and loss: 0.5216740965843201\n",
      "Loss: 0.5208849310874939\n",
      "Accuracy: 0.7775574922561646\n",
      "Loss: 0.6344990134239197\n",
      "Accuracy: 0.7437722682952881\n"
     ]
    },
    {
     "data": {
      "image/png": "[encoded data removed]",
      "text/plain": [
       "<Figure size 640x480 with 1 Axes>"
      ]
     },
     "metadata": {},
     "output_type": "display_data"
    }
   ],
   "source": [
    "classifier = NNModel(seed=seed, num_hidden_layers=num_hidden_layers)\n",
    "\n",
    "criterion = nn.CrossEntropyLoss()\n",
    "optimiser = torch.optim.Rprop(classifier.parameters(), lr=learning_rate)\n",
    "\n",
    "train_model(optimiser, criterion, epochs, classifier)"
   ]
  },
  {
   "cell_type": "markdown",
   "metadata": {},
   "source": [
    "### SGD\n"
   ]
  },
  {
   "cell_type": "code",
   "execution_count": 173,
   "metadata": {},
   "outputs": [
    {
     "name": "stdout",
     "output_type": "stream",
     "text": [
      "Epoch: 0 and loss: 1.1044816970825195\n",
      "Epoch: 100 and loss: 1.0053973197937012\n",
      "Epoch: 200 and loss: 0.733429491519928\n",
      "Epoch: 300 and loss: 0.6740202903747559\n",
      "Epoch: 400 and loss: 0.6214762926101685\n",
      "Epoch: 500 and loss: 0.5967893600463867\n",
      "Epoch: 600 and loss: 0.577989935874939\n",
      "Epoch: 700 and loss: 0.5659088492393494\n",
      "Epoch: 800 and loss: 0.5519232153892517\n",
      "Epoch: 900 and loss: 0.5416374206542969\n",
      "Epoch: 1000 and loss: 0.5275532603263855\n",
      "Epoch: 1100 and loss: 0.5163849592208862\n",
      "Epoch: 1200 and loss: 0.5193167924880981\n",
      "Epoch: 1300 and loss: 0.5022267699241638\n",
      "Epoch: 1400 and loss: 0.4932146966457367\n",
      "Epoch: 1500 and loss: 0.49430036544799805\n",
      "Epoch: 1600 and loss: 0.46242839097976685\n",
      "Epoch: 1700 and loss: 0.5177316665649414\n",
      "Epoch: 1800 and loss: 0.46620500087738037\n",
      "Epoch: 1900 and loss: 0.5732105374336243\n",
      "Epoch: 2000 and loss: 0.45578449964523315\n",
      "Epoch: 2100 and loss: 0.4588054418563843\n",
      "Epoch: 2200 and loss: 0.44468972086906433\n",
      "Epoch: 2300 and loss: 0.4336485266685486\n",
      "Epoch: 2400 and loss: 0.43873658776283264\n",
      "Epoch: 2500 and loss: 0.43386179208755493\n",
      "Epoch: 2600 and loss: 0.45075586438179016\n",
      "Epoch: 2700 and loss: 0.44081103801727295\n",
      "Epoch: 2800 and loss: 0.4213270843029022\n",
      "Epoch: 2900 and loss: 0.4242381453514099\n",
      "Epoch: 3000 and loss: 0.41024482250213623\n",
      "Epoch: 3100 and loss: 0.41230952739715576\n",
      "Epoch: 3200 and loss: 0.42791345715522766\n",
      "Epoch: 3300 and loss: 0.42268916964530945\n",
      "Epoch: 3400 and loss: 0.41591742634773254\n",
      "Epoch: 3500 and loss: 0.4237498641014099\n",
      "Epoch: 3600 and loss: 0.4748811423778534\n",
      "Epoch: 3700 and loss: 0.4054006040096283\n",
      "Epoch: 3800 and loss: 0.40047067403793335\n",
      "Epoch: 3900 and loss: 0.3942842185497284\n",
      "Epoch: 4000 and loss: 0.4000241458415985\n",
      "Epoch: 4100 and loss: 0.39834731817245483\n",
      "Epoch: 4200 and loss: 0.3861222267150879\n",
      "Epoch: 4300 and loss: 0.3979179859161377\n",
      "Epoch: 4400 and loss: 0.4037970304489136\n",
      "Epoch: 4500 and loss: 0.42640379071235657\n",
      "Epoch: 4600 and loss: 0.4971618354320526\n",
      "Epoch: 4700 and loss: 0.42093977332115173\n",
      "Epoch: 4800 and loss: 0.39347511529922485\n",
      "Epoch: 4900 and loss: 0.4121708869934082\n",
      "Loss: 0.37238168716430664\n",
      "Accuracy: 0.844964325428009\n",
      "Loss: 0.7939823269844055\n",
      "Accuracy: 0.7580071091651917\n"
     ]
    },
    {
     "data": {
      "image/png": "[encoded data removed]",
      "text/plain": [
       "<Figure size 640x480 with 1 Axes>"
      ]
     },
     "metadata": {},
     "output_type": "display_data"
    }
   ],
   "source": [
    "classifier = NNModel(seed=seed, num_hidden_layers=num_hidden_layers)\n",
    "\n",
    "criterion = nn.CrossEntropyLoss()\n",
    "optimiser = torch.optim.SGD(classifier.parameters(), lr=learning_rate, momentum=momentum)\n",
    "\n",
    "train_model(optimiser, criterion, epochs, classifier)"
   ]
  }
 ],
 "metadata": {
  "kernelspec": {
   "display_name": "Python 3",
   "language": "python",
   "name": "python3"
  },
  "language_info": {
   "codemirror_mode": {
    "name": "ipython",
    "version": 3
   },
   "file_extension": ".py",
   "mimetype": "text/x-python",
   "name": "python",
   "nbconvert_exporter": "python",
   "pygments_lexer": "ipython3",
   "version": "3.11.3"
  }
 },
 "nbformat": 4,
 "nbformat_minor": 2
}
