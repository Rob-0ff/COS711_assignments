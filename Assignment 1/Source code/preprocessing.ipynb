{
 "cells": [
  {
   "cell_type": "markdown",
   "id": "02279194",
   "metadata": {},
   "source": [
    "# Missing Values"
   ]
  },
  {
   "cell_type": "code",
   "execution_count": 59,
   "id": "8dd301b2",
   "metadata": {},
   "outputs": [],
   "source": [
    "import pandas as pd\n",
    "import matplotlib.pyplot as plt\n",
    "import seaborn as sns"
   ]
  },
  {
   "cell_type": "code",
   "execution_count": 60,
   "id": "3b639ef6",
   "metadata": {},
   "outputs": [],
   "source": [
    "def read_in_csv(file):\n",
    "  return pd.read_csv(file)"
   ]
  },
  {
   "cell_type": "markdown",
   "id": "11508088",
   "metadata": {},
   "source": [
    "## Drop the unnamed column"
   ]
  },
  {
   "cell_type": "code",
   "execution_count": 61,
   "id": "461b2bf6",
   "metadata": {},
   "outputs": [],
   "source": [
    "def drop_columns(data):\n",
    "  data.drop('Unnamed: 0', axis=1, inplace=True)"
   ]
  },
  {
   "cell_type": "markdown",
   "id": "23785467",
   "metadata": {},
   "source": [
    "## Check which columns have empty values"
   ]
  },
  {
   "cell_type": "code",
   "execution_count": 62,
   "id": "efd9f734",
   "metadata": {},
   "outputs": [],
   "source": [
    "def handle_missing_values(data):\n",
    "  columns_with_null = data.isnull().sum() > 0\n",
    "  columns_with_null = columns_with_null[columns_with_null].index\n",
    "\n",
    "  for column in columns_with_null:\n",
    "    data[column].fillna(data[column].mean(), inplace=True)\n",
    "\n",
    "  # for column in columns_with_null:\n",
    "  #   correlation = data_without_types.corr()[column]\n",
    "  #   column_to_average = correlation[correlation.abs() > 0.5].index\n",
    "  #   data[column].fillna(data[column_to_average].mean(axis=1), inplace=True)"
   ]
  },
  {
   "cell_type": "markdown",
   "id": "1f894630",
   "metadata": {},
   "source": [
    "## Handle outliers"
   ]
  },
  {
   "cell_type": "code",
   "execution_count": 63,
   "id": "2089a5b0",
   "metadata": {},
   "outputs": [],
   "source": [
    "def handle_outlying_values(data):\n",
    "  data_without_types = data.drop(columns=['Type'])\n",
    "  for column in data_without_types.columns:\n",
    "    data[column] = data[column].clip(lower=data[column].quantile(0.05), upper=data[column].quantile(0.95))"
   ]
  },
  {
   "cell_type": "code",
   "execution_count": 64,
   "id": "66006e43",
   "metadata": {},
   "outputs": [],
   "source": [
    "def visualise_outlying_values(data):\n",
    "    num_features = len(data.columns)\n",
    "    cols = 4  \n",
    "    rows = (num_features + cols - 1) // cols\n",
    "\n",
    "    fig, axes = plt.subplots(rows, cols, figsize=(15, 4 * rows))\n",
    "    axes = axes.flatten() \n",
    "    \n",
    "    for i, feature in enumerate(data.columns):\n",
    "        sns.boxplot(ax=axes[i], x=data[feature])\n",
    "        axes[i].set_title(f'Box Plot of {feature}')\n",
    "        axes[i].set_xlabel(feature)\n",
    "\n",
    "    plt.tight_layout()\n",
    "    plt.show()"
   ]
  },
  {
   "cell_type": "markdown",
   "id": "aa2b23b0",
   "metadata": {},
   "source": [
    "## Normalise data"
   ]
  },
  {
   "cell_type": "code",
   "execution_count": 65,
   "id": "b26855f4",
   "metadata": {},
   "outputs": [],
   "source": [
    "def normalise_data(data):\n",
    "  data_without_types = data.drop(columns=['Type'])\n",
    "  data_without_types = (data_without_types - data_without_types.mean()) / data_without_types.std()\n",
    "  data[data_without_types.columns] = data_without_types"
   ]
  },
  {
   "cell_type": "markdown",
   "id": "20160d3f",
   "metadata": {},
   "source": [
    "## Encode types"
   ]
  },
  {
   "cell_type": "code",
   "execution_count": 66,
   "id": "afd5f385",
   "metadata": {},
   "outputs": [],
   "source": [
    "def encode_categorical_data(data):\n",
    "    type_encodings = {\n",
    "        'REGULAR': 0,\n",
    "        'MAMRA': 1,\n",
    "        'SANORA': 2\n",
    "    }\n",
    "    data['Type'] = data['Type'].map(type_encodings)"
   ]
  },
  {
   "cell_type": "markdown",
   "id": "63516761",
   "metadata": {},
   "source": [
    "# Perform data preprocessing"
   ]
  },
  {
   "cell_type": "code",
   "execution_count": 67,
   "id": "2093d7a3",
   "metadata": {},
   "outputs": [],
   "source": [
    "def perform_preprocessing():\n",
    "  data = read_in_csv('../Data/Almond.csv')\n",
    "  drop_columns(data)\n",
    "  handle_missing_values(data)\n",
    "  handle_outlying_values(data)\n",
    "  normalise_data(data)\n",
    "  encode_categorical_data(data)\n",
    "\n",
    "  return data"
   ]
  }
 ],
 "metadata": {
  "kernelspec": {
   "display_name": "Python 3",
   "language": "python",
   "name": "python3"
  },
  "language_info": {
   "codemirror_mode": {
    "name": "ipython",
    "version": 3
   },
   "file_extension": ".py",
   "mimetype": "text/x-python",
   "name": "python",
   "nbconvert_exporter": "python",
   "pygments_lexer": "ipython3",
   "version": "3.11.3"
  }
 },
 "nbformat": 4,
 "nbformat_minor": 5
}
